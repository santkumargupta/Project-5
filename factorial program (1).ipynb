{
 "cells": [
  {
   "cell_type": "code",
   "execution_count": 3,
   "metadata": {},
   "outputs": [
    {
     "name": "stdout",
     "output_type": "stream",
     "text": [
      "Factorial of 5 is 120\n"
     ]
    }
   ],
   "source": [
    "def factorial(n):\n",
    "    if n<0:\n",
    "        return 0\n",
    "    elif n== 0 or n== 1:\n",
    "        return 1\n",
    "    else:\n",
    "        fact = 1\n",
    "        while(n>1):\n",
    "            fact*= n\n",
    "            n -= 1\n",
    "        return fact\n",
    "#Driver Code\n",
    "num = 5 ;\n",
    "print(\"Factorial of\" ,num,\"is\" ,factorial (num))"
   ]
  },
  {
   "cell_type": "code",
   "execution_count": 2,
   "metadata": {},
   "outputs": [
    {
     "name": "stdout",
     "output_type": "stream",
     "text": [
      "true\n",
      "false\n"
     ]
    }
   ],
   "source": [
    "def isPrime(n):\n",
    "  \n",
    "    # Corner case\n",
    "    if n <= 1:\n",
    "        return False\n",
    "  \n",
    "    # Check from 2 to n-1\n",
    "    for i in range(2, n):\n",
    "        if n % i == 0:\n",
    "            return False;\n",
    "  \n",
    "    return True\n",
    "  \n",
    "# Driver Program to test above function\n",
    "print(\"true\") if isPrime(11) else print(\"false\")\n",
    "print(\"true\") if isPrime(14) else print(\"false\")"
   ]
  },
  {
   "cell_type": "code",
   "execution_count": 3,
   "metadata": {},
   "outputs": [
    {
     "name": "stdout",
     "output_type": "stream",
     "text": [
      "Yes\n"
     ]
    }
   ],
   "source": [
    "def isPalindrome(s):\n",
    "    return s == s[::-1]\n",
    " \n",
    " \n",
    "# Driver code\n",
    "s = \"malayalam\"\n",
    "ans = isPalindrome(s)\n",
    " \n",
    "if ans:\n",
    "    print(\"Yes\")\n",
    "else:\n",
    "    print(\"No\")"
   ]
  },
  {
   "cell_type": "code",
   "execution_count": 4,
   "metadata": {},
   "outputs": [
    {
     "name": "stdout",
     "output_type": "stream",
     "text": [
      "Hypotenuse = 5.0\n",
      "Adjacent = 4.0\n",
      "Opposite = 3.0\n",
      "You know the answer!\n"
     ]
    }
   ],
   "source": [
    "def pythagoras(opposite_side,adjacent_side,hypotenuse):\n",
    "        if opposite_side == str(\"x\"):\n",
    "            return (\"Opposite = \" + str(((hypotenuse**2) - (adjacent_side**2))**0.5))\n",
    "        elif adjacent_side == str(\"x\"):\n",
    "            return (\"Adjacent = \" + str(((hypotenuse**2) - (opposite_side**2))**0.5))\n",
    "        elif hypotenuse == str(\"x\"):\n",
    "            return (\"Hypotenuse = \" + str(((opposite_side**2) + (adjacent_side**2))**0.5))\n",
    "        else:\n",
    "            return \"You know the answer!\"\n",
    "    \n",
    "print(pythagoras(3,4,'x'))\n",
    "print(pythagoras(3,'x',5))\n",
    "print(pythagoras('x',4,5))\n",
    "print(pythagoras(3,4,5))"
   ]
  },
  {
   "cell_type": "code",
   "execution_count": 7,
   "metadata": {},
   "outputs": [
    {
     "name": "stdout",
     "output_type": "stream",
     "text": [
      "The count of all characters in GeeksforGeeks is :\n",
      " {'r': 1, 'f': 1, 'k': 2, 'G': 2, 'e': 4, 's': 2, 'o': 1}\n"
     ]
    }
   ],
   "source": [
    "\n",
    "# Python3 code to demonstrate \n",
    "# each occurrence frequency using \n",
    "# set() + count()\n",
    "  \n",
    "# initializing string \n",
    "test_str = \"GeeksforGeeks\"\n",
    "  \n",
    "# using set() + count() to get count \n",
    "# of each element in string \n",
    "res = {i : test_str.count(i) for i in set(test_str)}\n",
    "  \n",
    "# printing result \n",
    "print (\"The count of all characters in GeeksforGeeks is :\\n \"\n",
    "                                               +  str(res))\n",
    "\n",
    "\n",
    "\n"
   ]
  },
  {
   "cell_type": "code",
   "execution_count": null,
   "metadata": {},
   "outputs": [],
   "source": []
  }
 ],
 "metadata": {
  "kernelspec": {
   "display_name": "Python 3",
   "language": "python",
   "name": "python3"
  },
  "language_info": {
   "codemirror_mode": {
    "name": "ipython",
    "version": 3
   },
   "file_extension": ".py",
   "mimetype": "text/x-python",
   "name": "python",
   "nbconvert_exporter": "python",
   "pygments_lexer": "ipython3",
   "version": "3.7.3"
  }
 },
 "nbformat": 4,
 "nbformat_minor": 2
}
